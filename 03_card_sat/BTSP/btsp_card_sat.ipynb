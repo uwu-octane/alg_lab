{
 "cells": [
  {
   "cell_type": "code",
   "execution_count": 1,
   "id": "de9078a2-9dfd-43d8-91d5-16e6732d7579",
   "metadata": {},
   "outputs": [],
   "source": [
    "from typing import Set\n",
    "\n",
    "\n",
    "from solver import BTSPSolverSAT\n",
    "from util import random_points, draw_edges, export_instance, import_instance, suppress_stdout"
   ]
  },
  {
   "cell_type": "code",
   "execution_count": 2,
   "id": "6678d0f0-a7ca-4e98-a5b4-44d25103c777",
   "metadata": {},
   "outputs": [],
   "source": [
    "%load_ext autoreload\n",
    "%autoreload 2"
   ]
  },
  {
   "cell_type": "code",
   "execution_count": 3,
   "id": "858eba1c-b9e6-4410-bc2b-8d1531baccef",
   "metadata": {},
   "outputs": [
    {
     "name": "stdout",
     "output_type": "stream",
     "text": [
      "New best bottleneck: 3622.4015514572648!\n",
      "The bottleneck 3475.8207663802227 is infeasible!\n",
      "The bottleneck 3604.102384783207 is infeasible!\n",
      "The bottleneck 3620.370837359068 is infeasible!\n",
      "Time taken: 0.0006072999999999773\n"
     ]
    },
    {
     "data": {
      "text/plain": "<Figure size 800x600 with 1 Axes>",
      "image/png": "[encoded data removed]"
     },
     "metadata": {},
     "output_type": "display_data"
    }
   ],
   "source": [
    "points = import_instance(\"10.json\")\n",
    "solver = BTSPSolverSAT(points, 2)\n",
    "edges, time_taken = solver.solve(0)\n",
    "print(\"Time taken: \" + str(time_taken))\n",
    "draw_edges(edges)"
   ]
  },
  {
   "cell_type": "code",
   "execution_count": 4,
   "id": "fbabd573-5ce6-401d-804b-316130911d3c",
   "metadata": {},
   "outputs": [],
   "source": [
    "for i in range(5,16):\n",
    "    export_instance(str(i)+\".json\",random_points(i))"
   ]
  },
  {
   "cell_type": "markdown",
   "id": "e33f537d-d77b-4a1d-ae37-2e4428beac91",
   "metadata": {},
   "source": [
    "# Benchmarks"
   ]
  },
  {
   "cell_type": "code",
   "execution_count": 5,
   "id": "18bbacbd-72c2-4e36-8b95-64ebabef9099",
   "metadata": {},
   "outputs": [],
   "source": [
    "def benchmark(points):\n",
    "    solver = BTSPSolverSAT(points, 2)\n",
    "    with suppress_stdout():\n",
    "        edges, time_taken = solver.solve(0)\n",
    "    print(\"Method: Binary Search; Time taken: \" + str(time_taken))\n",
    "\n",
    "    with suppress_stdout():\n",
    "        edges, time_taken = solver.solve(1)\n",
    "    print(\"Method: Linear Search Descending; Time taken: \" + str(time_taken))\n",
    "\n",
    "    with suppress_stdout():\n",
    "        edges, time_taken = solver.solve(2)\n",
    "    print(\"Method: Linear Search Ascending; Time taken: \" + str(time_taken))"
   ]
  },
  {
   "cell_type": "code",
   "execution_count": 6,
   "id": "0fdc21ef-73f4-48b1-91b6-a799d686daa3",
   "metadata": {},
   "outputs": [
    {
     "name": "stdout",
     "output_type": "stream",
     "text": [
      "Method: Binary Search; Time taken: 0.49670279999999956\n",
      "Method: Linear Search Descending; Time taken: 0.5163880000000001\n",
      "Method: Linear Search Ascending; Time taken: 0.5191923999999997\n"
     ]
    }
   ],
   "source": [
    "benchmark(import_instance(\"14.json\"))"
   ]
  },
  {
   "cell_type": "code",
   "execution_count": null,
   "outputs": [
    {
     "name": "stdout",
     "output_type": "stream",
     "text": [
      "Points: 1\n",
      "New best bottleneck: 5614.5429021426135!\n",
      "The bottleneck 3881.7038784533784 is infeasible!\n",
      "New best bottleneck: 4668.609321843069!\n",
      "The bottleneck 4227.037378590353 is infeasible!\n",
      "New best bottleneck: 4358.02822386455!\n",
      "The bottleneck 4334.134284952417 is infeasible!\n",
      "Points: 2\n",
      "New best bottleneck: 5627.6817607252815!\n",
      "The bottleneck 3763.644643161732 is infeasible!\n",
      "New best bottleneck: 4131.041636197825!\n",
      "The bottleneck 3914.8407375013353 is infeasible!\n",
      "The bottleneck 3998.394802917791 is infeasible!\n",
      "The bottleneck 4121.367370181892 is infeasible!\n",
      "Points: 3\n",
      "New best bottleneck: 5205.247352431967!\n",
      "The bottleneck 4328.462313570491 is infeasible!\n",
      "New best bottleneck: 4692.483883829544!\n",
      "The bottleneck 4504.66114152885 is infeasible!\n",
      "New best bottleneck: 4639.188291069893!\n",
      "The bottleneck 4562.924610378743 is infeasible!\n",
      "Points: 4\n",
      "New best bottleneck: 5171.278855370304!\n",
      "The bottleneck 3838.8859060930686 is infeasible!\n",
      "New best bottleneck: 3955.793346472993!\n",
      "The bottleneck 3909.8471837144734 is infeasible!\n",
      "New best bottleneck: 3928.5168957254086!\n",
      "Points: 5\n",
      "New best bottleneck: 4068.9934873381158!\n",
      "The bottleneck 3239.9020046908827 created an unconnected graph!\n",
      "The bottleneck 3560.874330835055 created an unconnected graph!\n",
      "The bottleneck 3971.2875745783003 is infeasible!\n",
      "The bottleneck 4015.234613319625 is infeasible!\n",
      "The bottleneck 4015.3830452398934 is infeasible!\n",
      "Points: 6\n",
      "New best bottleneck: 5193.367019574102!\n",
      "New best bottleneck: 4027.005835605407!\n",
      "The bottleneck 3143.549904168852 is infeasible!\n",
      "The bottleneck 3799.011713590786 is infeasible!\n",
      "The bottleneck 3865.7027821600564 is infeasible!\n",
      "The bottleneck 3887.7564224112602 is infeasible!\n",
      "New best bottleneck: 3907.895853269378!\n",
      "Points: 7\n",
      "New best bottleneck: 4876.633469925744!\n",
      "The bottleneck 3605.419531760486 is infeasible!\n",
      "The bottleneck 4228.878338283096 is infeasible!\n",
      "New best bottleneck: 4414.088807443729!\n",
      "The bottleneck 4301.4380153618395 is infeasible!\n",
      "The bottleneck 4373.108848405217 is infeasible!\n",
      "Points: 8\n",
      "New best bottleneck: 4713.794437605441!\n",
      "The bottleneck 3608.9645329373907 is infeasible!\n",
      "New best bottleneck: 3828.8150908603566!\n",
      "New best bottleneck: 3694.250668268194!\n",
      "The bottleneck 3687.977358932671 is infeasible!\n",
      "The bottleneck 3688.4533343936996 is infeasible!\n",
      "Points: 9\n",
      "New best bottleneck: 5130.8822828047805!\n",
      "The bottleneck 3390.7418067437693 is infeasible!\n",
      "New best bottleneck: 4256.421619153817!\n",
      "New best bottleneck: 3395.9543577616!\n",
      "Points: 10\n",
      "New best bottleneck: 5800.026637869864!\n",
      "The bottleneck 4108.783883340666 is infeasible!\n",
      "New best bottleneck: 4925.997259438946!\n",
      "The bottleneck 4555.0563113972585 is infeasible!\n",
      "New best bottleneck: 4680.5812673213995!\n",
      "New best bottleneck: 4669.5872408597315!\n",
      "Points: 11\n"
     ]
    }
   ],
   "source": [
    "import signal\n",
    "import time\n",
    "\n",
    "def timeout(signum, frame):\n",
    "    print('Signal handler called with signal',\n",
    "          signum)\n",
    "    raise OSError(\"timeout exceeded!\")\n",
    "\n",
    "def benchmark_time():\n",
    "    signal.signal(signal.SIGALRM, timeout)\n",
    "\n",
    "    signal.alarm(60)\n",
    "    start = time.time()\n",
    "    num_points = 1\n",
    "    try:\n",
    "        while True:\n",
    "            print(f'Points: {num_points}')\n",
    "            solver = BTSPSolverSAT(random_points(i), 2)\n",
    "            # Use binary search as it is most performant\n",
    "            solver.solve(0)\n",
    "            num_points += 1\n",
    "    except OSError as e:\n",
    "        print(e)\n",
    "    signal.alarm(0)\n",
    "    print(f'Biggest instance to solve in under 60 sec: {num_points - 1}')\n",
    "\n",
    "benchmark_time()"
   ],
   "metadata": {
    "collapsed": false,
    "pycharm": {
     "is_executing": true
    }
   }
  }
 ],
 "metadata": {
  "kernelspec": {
   "display_name": "Python 3 (ipykernel)",
   "language": "python",
   "name": "python3"
  },
  "language_info": {
   "codemirror_mode": {
    "name": "ipython",
    "version": 3
   },
   "file_extension": ".py",
   "mimetype": "text/x-python",
   "name": "python",
   "nbconvert_exporter": "python",
   "pygments_lexer": "ipython3",
   "version": "3.10.11"
  }
 },
 "nbformat": 4,
 "nbformat_minor": 5
}
