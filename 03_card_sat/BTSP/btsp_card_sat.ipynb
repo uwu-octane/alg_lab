{
 "cells": [
  {
   "cell_type": "code",
   "execution_count": null,
   "id": "de9078a2-9dfd-43d8-91d5-16e6732d7579",
   "metadata": {},
   "outputs": [],
   "source": [
    "from typing import Set\n",
    "\n",
    "\n",
    "from solver import BTSPSolverSAT\n",
    "from util import random_points, draw_edges, export_instance, import_instance, suppress_stdout"
   ]
  },
  {
   "cell_type": "code",
   "execution_count": null,
   "id": "6678d0f0-a7ca-4e98-a5b4-44d25103c777",
   "metadata": {},
   "outputs": [],
   "source": [
    "%load_ext autoreload\n",
    "%autoreload 2"
   ]
  },
  {
   "cell_type": "code",
   "execution_count": null,
   "id": "858eba1c-b9e6-4410-bc2b-8d1531baccef",
   "metadata": {},
   "outputs": [],
   "source": [
    "points = import_instance(\"10.json\")\n",
    "solver = BTSPSolverSAT(points, 2)\n",
    "edges, time_taken = solver.solve(0)\n",
    "print(\"Time taken: \" + str(time_taken))\n",
    "draw_edges(edges)"
   ]
  },
  {
   "cell_type": "code",
   "execution_count": null,
   "id": "fbabd573-5ce6-401d-804b-316130911d3c",
   "metadata": {},
   "outputs": [],
   "source": [
    "for i in range(5,16):\n",
    "    export_instance(str(i)+\".json\",random_points(i))"
   ]
  },
  {
   "cell_type": "markdown",
   "id": "e33f537d-d77b-4a1d-ae37-2e4428beac91",
   "metadata": {},
   "source": [
    "# Benchmarks"
   ]
  },
  {
   "cell_type": "code",
   "execution_count": null,
   "id": "18bbacbd-72c2-4e36-8b95-64ebabef9099",
   "metadata": {},
   "outputs": [],
   "source": [
    "def benchmark(points):\n",
    "    solver = BTSPSolverSAT(points, 2)\n",
    "    with suppress_stdout():\n",
    "        edges, time_taken = solver.solve(0)\n",
    "    print(\"Method: Binary Search; Time taken: \" + str(time_taken))\n",
    "\n",
    "    with suppress_stdout():\n",
    "        edges, time_taken = solver.solve(1)\n",
    "    print(\"Method: Linear Search Descending; Time taken: \" + str(time_taken))\n",
    "\n",
    "    with suppress_stdout():\n",
    "        edges, time_taken = solver.solve(2)\n",
    "    print(\"Method: Linear Search Ascending; Time taken: \" + str(time_taken))"
   ]
  },
  {
   "cell_type": "code",
   "execution_count": null,
   "id": "0fdc21ef-73f4-48b1-91b6-a799d686daa3",
   "metadata": {},
   "outputs": [],
   "source": [
    "benchmark(import_instance(\"14.json\"))"
   ]
  },
  {
   "cell_type": "code",
   "execution_count": null,
   "outputs": [],
   "source": [
    "import signal\n",
    "import time\n",
    "\n",
    "def timeout(signum, frame):\n",
    "    print('Signal handler called with signal',\n",
    "          signum)\n",
    "    raise OSError(\"timeout exceeded!\")\n",
    "\n",
    "def benchmark_time():\n",
    "    signal.signal(signal.SIGALRM, timeout)\n",
    "\n",
    "    signal.alarm(60)\n",
    "    start = time.time()\n",
    "    num_points = 1\n",
    "    try:\n",
    "        while True:\n",
    "            print(f'Points: {num_points}')\n",
    "            solver = BTSPSolverSAT(random_points(i), 2)\n",
    "            # Use binary search as it is most performant\n",
    "            solver.solve(0)\n",
    "            num_points += 1\n",
    "    except OSError as e:\n",
    "        print(e)\n",
    "    signal.alarm(0)\n",
    "    print(f'Biggest instance to solve in under 60 sec: {num_points - 1}')\n",
    "    print(f'Failed at {num_points} points')\n",
    "\n",
    "benchmark_time()"
   ],
   "metadata": {
    "collapsed": false
   }
  }
 ],
 "metadata": {
  "kernelspec": {
   "display_name": "Python 3 (ipykernel)",
   "language": "python",
   "name": "python3"
  },
  "language_info": {
   "codemirror_mode": {
    "name": "ipython",
    "version": 3
   },
   "file_extension": ".py",
   "mimetype": "text/x-python",
   "name": "python",
   "nbconvert_exporter": "python",
   "pygments_lexer": "ipython3",
   "version": "3.10.11"
  }
 },
 "nbformat": 4,
 "nbformat_minor": 5
}
