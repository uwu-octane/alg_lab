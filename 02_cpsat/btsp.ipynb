{
 "cells": [
  {
   "cell_type": "code",
   "execution_count": null,
   "id": "fb88ea7a-aa2e-41b0-83c1-b7a3df1197a5",
   "metadata": {
    "pycharm": {
     "is_executing": true
    }
   },
   "outputs": [],
   "source": [
    "# Imports"
   ]
  },
  {
   "cell_type": "code",
   "execution_count": null,
   "id": "10fc3682",
   "metadata": {
    "collapsed": false,
    "jupyter": {
     "outputs_hidden": false
    },
    "pycharm": {
     "is_executing": true
    }
   },
   "outputs": [],
   "source": [
    "%load_ext autoreload\n",
    "%autoreload 2\n",
    "\n",
    "# libraries\n",
    "import networkx as nx\n",
    "import random\n",
    "import matplotlib\n",
    "import matplotlib.pyplot as plt\n",
    "import signal\n",
    "import time\n",
    "\n",
    "# our code\n",
    "from _solver import squared_distance, BTSPSolverCP\n",
    "import _solver_add_circuit as solver2"
   ]
  },
  {
   "cell_type": "code",
   "execution_count": null,
   "id": "8c683776-a2a5-46bb-a01a-c3bc12f73b04",
   "metadata": {
    "pycharm": {
     "is_executing": true
    }
   },
   "outputs": [],
   "source": [
    "## Utils"
   ]
  },
  {
   "cell_type": "code",
   "execution_count": null,
   "id": "6da16df8-a524-4155-97fe-76c160588738",
   "metadata": {
    "pycharm": {
     "is_executing": true
    }
   },
   "outputs": [],
   "source": [
    "def random_points(n, w=10_000, h=10_000):\n",
    "    \"\"\"\n",
    "    Generate a list of n randomly placed points on the w x h grid.\n",
    "    \"\"\"\n",
    "    return [(random.randint(0,w), random.randint(0,h)) for _ in range(n)]\n",
    "\n",
    "def draw_btsp_edges(edges):\n",
    "    \"\"\"\n",
    "    Draw the edges of a DBST. The bottleneck edge(s) automatically get highlighted.\n",
    "    \"\"\"\n",
    "    points = set([e[0] for e in edges] + [e[1] for e in edges])\n",
    "    draw_graph = nx.empty_graph()\n",
    "    draw_graph.add_nodes_from(points)\n",
    "    draw_graph.add_edges_from(edges)\n",
    "    g_edges = draw_graph.edges()\n",
    "    max_length = max((squared_distance(*e) for e in g_edges))\n",
    "    color = [('red' if squared_distance(*e) == max_length else 'black') for e in g_edges]\n",
    "    width = [(1.0 if squared_distance(*e) == max_length else 0.5) for e in g_edges]\n",
    "    plt.clf()\n",
    "    fig, ax = plt.gcf(), plt.gca()\n",
    "    fig.set_size_inches(8,8)\n",
    "    ax.set_aspect(1.0)  # 1:1 aspect ratio\n",
    "    nx.draw_networkx(draw_graph, pos={p: p for p in points}, node_size=8,\n",
    "                     with_labels=False, edgelist=g_edges, edge_color=color, width=width, ax=ax)\n",
    "    plt.show()\n",
    "\n",
    "def timeout(signum, frame):\n",
    "    print('Signal handler called with signal',\n",
    "          signum)\n",
    "    raise OSError(\"timeout exceeded!\")"
   ]
  },
  {
   "cell_type": "code",
   "execution_count": null,
   "id": "cc5260e7-5f9b-4d57-b80a-f7932f304c72",
   "metadata": {
    "pycharm": {
     "is_executing": true
    }
   },
   "outputs": [],
   "source": [
    "#random.seed(1234567) # remove if you want random instances\n",
    "solver = BTSPSolverCP(random_points(3))\n",
    "draw_btsp_edges(solver.solve())"
   ]
  },
  {
   "cell_type": "code",
   "execution_count": null,
   "id": "c8b03db7-1e1a-4dda-961a-f9da22594a2c",
   "metadata": {
    "pycharm": {
     "is_executing": true
    }
   },
   "outputs": [],
   "source": [
    "#random.seed(1234567) # remove if you want random instances\n",
    "solver = BTSPSolverCP(random_points(5))\n",
    "draw_btsp_edges(solver.solve())"
   ]
  },
  {
   "cell_type": "code",
   "execution_count": null,
   "id": "a59ed67e-e5eb-42ab-9eed-efcee812cadc",
   "metadata": {
    "pycharm": {
     "is_executing": true
    }
   },
   "outputs": [],
   "source": [
    "random.seed(1234567) # remove if you want random instances\n",
    "solver = BTSPSolverCP(random_points(10))\n",
    "draw_btsp_edges(solver.solve())"
   ]
  },
  {
   "cell_type": "code",
   "execution_count": null,
   "id": "4cb40da5-0283-407d-8d73-70604823ccb9",
   "metadata": {
    "pycharm": {
     "is_executing": true
    }
   },
   "outputs": [],
   "source": [
    "## Benchmark"
   ]
  },
  {
   "cell_type": "code",
   "execution_count": null,
   "id": "b8e67552-eee9-45bb-b272-f1d4171d1e49",
   "metadata": {
    "pycharm": {
     "is_executing": true
    }
   },
   "outputs": [],
   "source": [
    "\n",
    "random.seed(1234567)  # remove if you want random instances\n",
    "signal.signal(signal.SIGALRM, timeout)\n",
    "\n",
    "signal.alarm(60)\n",
    "start = time.time()\n",
    "\n",
    "try:\n",
    "    for i in range(3, 200):\n",
    "        print(f'Points: {i}')\n",
    "        BTSPSolverCP(random_points(i))\n",
    "except OSError as e:\n",
    "    print(e)\n",
    "signal.alarm(0)\n",
    "print(f'Time taken: {round(time.time() - start, 4)}')"
   ]
  },
  {
   "cell_type": "code",
   "execution_count": null,
   "id": "b2cceae5-4eda-4470-bf51-437715b5979d",
   "metadata": {
    "pycharm": {
     "is_executing": true
    }
   },
   "outputs": [],
   "source": [
    "# Add Circuit"
   ]
  },
  {
   "cell_type": "code",
   "execution_count": null,
   "id": "8664ab66",
   "metadata": {
    "collapsed": false,
    "jupyter": {
     "outputs_hidden": false
    },
    "pycharm": {
     "is_executing": true
    }
   },
   "outputs": [],
   "source": [
    "random.seed(1234567)  # remove if you want random instances\n",
    "signal.signal(signal.SIGALRM, timeout)\n",
    "\n",
    "signal.alarm(60)\n",
    "start = time.time()\n",
    "try:\n",
    "    for i in range(3, 200):\n",
    "        print(f'Points: {i}')\n",
    "        solver2.BTSPSolverCP(random_points(i))\n",
    "except OSError as e:\n",
    "    print(e)\n",
    "signal.alarm(0)\n",
    "print(f'Time taken: {round(time.time() - start, 4)}')"
   ]
  }
 ],
 "metadata": {
  "kernelspec": {
   "display_name": "Python 3 (ipykernel)",
   "language": "python",
   "name": "python3"
  },
  "language_info": {
   "codemirror_mode": {
    "name": "ipython",
    "version": 3
   },
   "file_extension": ".py",
   "mimetype": "text/x-python",
   "name": "python",
   "nbconvert_exporter": "python",
   "pygments_lexer": "ipython3",
   "version": "3.10.11"
  }
 },
 "nbformat": 4,
 "nbformat_minor": 5
}
