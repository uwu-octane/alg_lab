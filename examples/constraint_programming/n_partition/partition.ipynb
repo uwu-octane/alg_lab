{
 "cells": [
  {
   "cell_type": "code",
   "execution_count": null,
   "metadata": {},
   "outputs": [],
   "source": [
    "from solver import PartitionSolverCpSat\n",
    "import random"
   ]
  },
  {
   "attachments": {},
   "cell_type": "markdown",
   "metadata": {},
   "source": [
    "# k-WAY-PARTITIONING\n",
    "For a given list/multiset of integers, the k-WAY-PARTITIONING problem asks whether all integers can be assigned to one of k >= 2 partitions, such that the sum of the integers in each partition are equivalent. This problem is known to be NP-hard for arbitrary sets of integers and for all k."
   ]
  },
  {
   "cell_type": "code",
   "execution_count": null,
   "metadata": {},
   "outputs": [],
   "source": [
    "random.seed(1234568)\n",
    "ints = [random.randint(1, 20) for _ in range(69)]"
   ]
  },
  {
   "attachments": {},
   "cell_type": "markdown",
   "metadata": {},
   "source": [
    "### Initialize the solver."
   ]
  },
  {
   "cell_type": "code",
   "execution_count": null,
   "metadata": {},
   "outputs": [],
   "source": [
    "solver = PartitionSolverCpSat(ints)\n",
    "\n",
    "def solve_n_partition(n: int):\n",
    "    solution = solver.solve(n)\n",
    "\n",
    "    if solution is not None:\n",
    "        print(\"List of partitions:\")\n",
    "        for i, partition in enumerate(solution, start=1):\n",
    "            print(f\"[{i}] {sum(partition)} = sum({partition})\")\n",
    "    else:\n",
    "        print(f\"No feasible {n}-partition exists!\")"
   ]
  },
  {
   "attachments": {},
   "cell_type": "markdown",
   "metadata": {},
   "source": [
    "### Solve 3-partition."
   ]
  },
  {
   "cell_type": "code",
   "execution_count": null,
   "metadata": {},
   "outputs": [],
   "source": [
    "solve_n_partition(n=3)"
   ]
  },
  {
   "attachments": {},
   "cell_type": "markdown",
   "metadata": {},
   "source": [
    "### Solve 5-partition."
   ]
  },
  {
   "cell_type": "code",
   "execution_count": null,
   "metadata": {},
   "outputs": [],
   "source": [
    "solve_n_partition(n=5)"
   ]
  },
  {
   "attachments": {},
   "cell_type": "markdown",
   "metadata": {},
   "source": [
    "### Solve 9-partition."
   ]
  },
  {
   "cell_type": "code",
   "execution_count": null,
   "metadata": {},
   "outputs": [],
   "source": [
    "solve_n_partition(n=9)"
   ]
  }
 ],
 "metadata": {
  "kernelspec": {
   "display_name": "Python 3",
   "language": "python",
   "name": "python3"
  },
  "language_info": {
   "codemirror_mode": {
    "name": "ipython",
    "version": 3
   },
   "file_extension": ".py",
   "mimetype": "text/x-python",
   "name": "python",
   "nbconvert_exporter": "python",
   "pygments_lexer": "ipython3",
   "version": "3.10.6"
  },
  "orig_nbformat": 4
 },
 "nbformat": 4,
 "nbformat_minor": 2
}
