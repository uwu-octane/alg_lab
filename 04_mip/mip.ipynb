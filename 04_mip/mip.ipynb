{
 "cells": [
  {
   "cell_type": "code",
   "execution_count": 2,
   "id": "d58686ae-b63a-4089-9ae6-d2348fd6c6de",
   "metadata": {},
   "outputs": [],
   "source": [
    "import networkx as nx\n",
    "import random\n",
    "import matplotlib\n",
    "import matplotlib.pyplot as plt\n",
    "\n",
    "from MIP import *"
   ]
  },
  {
   "cell_type": "markdown",
   "id": "90abbdf8-11db-4745-8091-3fa5b14dc17e",
   "metadata": {},
   "source": [
    "### Hilfsroutinen"
   ]
  },
  {
   "cell_type": "code",
   "execution_count": 3,
   "id": "6914e45a-7a93-4d26-8579-bd8c3e2fc6d5",
   "metadata": {},
   "outputs": [],
   "source": [
    "def random_points(n, w=10_000, h=10_000) -> Set[Node]:\n",
    "    \"\"\"\n",
    "    n random points with integer coordinates within the w * h rectangle.\n",
    "    :param n: Number of points\n",
    "    :param w: The width of the rectangle.\n",
    "    :param h: The height of the rectangle.\n",
    "    :return: A set of points as (x,y)-tuples.\n",
    "    \"\"\"\n",
    "    return set((random.randint(0,w), random.randint(0,h)) for _ in range(n))"
   ]
  },
  {
   "cell_type": "code",
   "execution_count": null,
   "id": "e5732251-bd60-41b5-bd05-99c5eaf92e7a",
   "metadata": {},
   "outputs": [],
   "source": []
  }
 ],
 "metadata": {
  "kernelspec": {
   "display_name": "Python 3 (ipykernel)",
   "language": "python",
   "name": "python3"
  },
  "language_info": {
   "codemirror_mode": {
    "name": "ipython",
    "version": 3
   },
   "file_extension": ".py",
   "mimetype": "text/x-python",
   "name": "python",
   "nbconvert_exporter": "python",
   "pygments_lexer": "ipython3",
   "version": "3.10.11"
  }
 },
 "nbformat": 4,
 "nbformat_minor": 5
}
