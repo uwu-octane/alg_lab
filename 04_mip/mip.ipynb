{
 "cells": [
  {
   "cell_type": "code",
   "execution_count": 1,
   "id": "d58686ae-b63a-4089-9ae6-d2348fd6c6de",
   "metadata": {},
   "outputs": [],
   "source": [
    "import networkx as nx\n",
    "import random\n",
    "import matplotlib\n",
    "import matplotlib.pyplot as plt\n",
    "\n",
    "from MIP import *\n",
    "\n",
    "%load_ext autoreload\n",
    "%autoreload 2"
   ]
  },
  {
   "cell_type": "code",
   "execution_count": 27,
   "id": "f2ef9395-fa2c-4d53-8ad9-3ebc919ea8bb",
   "metadata": {},
   "outputs": [
    {
     "name": "stdout",
     "output_type": "stream",
     "text": [
      "Greedy bottleneck: 5744.759437957346\n"
     ]
    }
   ],
   "source": [
    "#random.seed(1234567)\n",
    "#points = util.random_points(10)\n",
    "points = util.import_instance(\"11.json\")\n",
    "start, bottleneck = Greedy_Btsp(points).solve() # returns greedy solution as binary list"
   ]
  },
  {
   "cell_type": "code",
   "execution_count": 29,
   "id": "e5732251-bd60-41b5-bd05-99c5eaf92e7a",
   "metadata": {},
   "outputs": [
    {
     "name": "stdout",
     "output_type": "stream",
     "text": [
      "Set parameter LazyConstraints to value 1\n",
      "Gurobi Optimizer version 10.0.1 build v10.0.1rc0 (linux64)\n",
      "\n",
      "CPU model: AMD Ryzen 5 5500U with Radeon Graphics, instruction set [SSE2|AVX|AVX2]\n",
      "Thread count: 6 physical cores, 12 logical processors, using up to 12 threads\n",
      "\n",
      "Optimize a model with 78 rows, 56 columns and 385 nonzeros\n",
      "Model fingerprint: 0xfce6f129\n",
      "Variable types: 1 continuous, 55 integer (55 binary)\n",
      "Coefficient statistics:\n",
      "  Matrix range     [1e+00, 1e+04]\n",
      "  Objective range  [1e+00, 1e+00]\n",
      "  Bounds range     [1e+00, 1e+04]\n",
      "  RHS range        [1e+00, 1e+01]\n",
      "\n",
      "User MIP start did not produce a new incumbent solution\n",
      "User MIP start violates constraint R70 by 1883.022677442\n",
      "\n",
      "Found heuristic solution: objective 7670.7509411\n",
      "Presolve time: 0.00s\n",
      "Presolved: 78 rows, 56 columns, 385 nonzeros\n",
      "Variable types: 1 continuous, 55 integer (55 binary)\n",
      "\n",
      "Root relaxation: objective 9.936433e+02, 95 iterations, 0.00 seconds (0.00 work units)\n",
      "\n",
      "    Nodes    |    Current Node    |     Objective Bounds      |     Work\n",
      " Expl Unexpl |  Obj  Depth IntInf | Incumbent    BestBd   Gap | It/Node Time\n",
      "\n",
      "     0     0  993.64327    0   39 7670.75094  993.64327  87.0%     -    0s\n",
      "H    0     0                    7297.4495545  993.64327  86.4%     -    0s\n",
      "     0     0 1569.98307    0   39 7297.44955 1569.98307  78.5%     -    0s\n",
      "H    0     0                    7258.4949542 1569.98307  78.4%     -    0s\n",
      "     0     0 1569.98307    0   40 7258.49495 1569.98307  78.4%     -    0s\n",
      "     0     0 2103.37409    0   35 7258.49495 2103.37409  71.0%     -    0s\n",
      "     0     0 2103.37409    0   35 7258.49495 2103.37409  71.0%     -    0s\n",
      "     0     0 2529.39161    0   33 7258.49495 2529.39161  65.2%     -    0s\n",
      "     0     0 2671.55075    0   27 7258.49495 2671.55075  63.2%     -    0s\n",
      "H    0     0                    6663.3073620 2671.55075  59.9%     -    0s\n",
      "     0     0 2678.32648    0   26 6663.30736 2678.32648  59.8%     -    0s\n",
      "     0     0 2770.76642    0   30 6663.30736 2770.76642  58.4%     -    0s\n",
      "     0     0 2866.76201    0   25 6663.30736 2866.76201  57.0%     -    0s\n",
      "     0     0 2884.32041    0   28 6663.30736 2884.32041  56.7%     -    0s\n",
      "     0     0 2884.32041    0   26 6663.30736 2884.32041  56.7%     -    0s\n",
      "     0     0 2890.16552    0   21 6663.30736 2890.16552  56.6%     -    0s\n",
      "     0     0 3054.48709    0   14 6663.30736 3054.48709  54.2%     -    0s\n",
      "H    0     0                    6194.9673930 3054.48709  50.7%     -    0s\n",
      "H    0     0                    5445.5270636 3054.48709  43.9%     -    0s\n",
      "     0     0 3228.72450    0   16 5445.52706 3228.72450  40.7%     -    0s\n",
      "     0     0 3335.01018    0   20 5445.52706 3335.01018  38.8%     -    0s\n",
      "     0     0 3370.25190    0   21 5445.52706 3370.25190  38.1%     -    0s\n",
      "     0     0 3370.25190    0   23 5445.52706 3370.25190  38.1%     -    0s\n",
      "     0     0 3449.61750    0   17 5445.52706 3449.61750  36.7%     -    0s\n",
      "     0     0 3449.61750    0   11 5445.52706 3449.61750  36.7%     -    0s\n",
      "H    0     0                    5338.4534277 3449.61750  35.4%     -    0s\n",
      "     0     0 3449.61750    0   11 5338.45343 3449.61750  35.4%     -    0s\n",
      "     0     0 3456.35759    0   17 5338.45343 3456.35759  35.3%     -    0s\n",
      "     0     0 3578.12757    0   11 5338.45343 3578.12757  33.0%     -    0s\n",
      "     0     0 3578.12757    0   11 5338.45343 3578.12757  33.0%     -    0s\n",
      "     0     0 3578.12757    0   13 5338.45343 3578.12757  33.0%     -    0s\n",
      "     0     0 3578.12757    0   13 5338.45343 3578.12757  33.0%     -    0s\n",
      "     0     0 3578.12757    0   12 5338.45343 3578.12757  33.0%     -    0s\n",
      "     0     0 3578.12757    0   12 5338.45343 3578.12757  33.0%     -    0s\n",
      "H    0     0                    5042.2157828 3578.12757  29.0%     -    0s\n",
      "H    0     0                    4673.2576432 3578.12757  23.4%     -    0s\n",
      "\n",
      "Explored 1 nodes (609 simplex iterations) in 0.10 seconds (0.02 work units)\n",
      "Thread count was 12 (of 12 available processors)\n",
      "\n",
      "Solution count 9: 4673.26 5042.22 5338.45 ... 7670.75\n",
      "\n",
      "Optimal solution found (tolerance 1.00e-04)\n",
      "Best objective 4.673257643229e+03, best bound 4.673257643229e+03, gap 0.0000%\n",
      "\n",
      "User-callback calls 285, time in user-callback 0.01 sec\n",
      "[DBST SOLVER]: Found the optimal bottleneck! Bottleneck length is 4673.257643229185\n"
     ]
    },
    {
     "data": {
      "image/png": "[encoded data removed]",
      "text/plain": [
       "<Figure size 800x600 with 1 Axes>"
      ]
     },
     "metadata": {},
     "output_type": "display_data"
    }
   ],
   "source": [
    "sol, timetaken = BTSPSolverIP(points, util.all_edges_sorted(points)).solve(start, bottleneck)\n",
    "draw_edges(sol)"
   ]
  },
  {
   "cell_type": "code",
   "execution_count": 30,
   "id": "3bd0bd9d-e7ad-4108-9093-191a45b22936",
   "metadata": {},
   "outputs": [
    {
     "name": "stdout",
     "output_type": "stream",
     "text": [
      "Set parameter LazyConstraints to value 1\n",
      "Gurobi Optimizer version 10.0.1 build v10.0.1rc0 (linux64)\n",
      "\n",
      "CPU model: AMD Ryzen 5 5500U with Radeon Graphics, instruction set [SSE2|AVX|AVX2]\n",
      "Thread count: 6 physical cores, 12 logical processors, using up to 12 threads\n",
      "\n",
      "Optimize a model with 78 rows, 56 columns and 385 nonzeros\n",
      "Model fingerprint: 0xafd225e5\n",
      "Variable types: 1 continuous, 55 integer (55 binary)\n",
      "Coefficient statistics:\n",
      "  Matrix range     [1e+00, 1e+04]\n",
      "  Objective range  [1e+00, 1e+00]\n",
      "  Bounds range     [1e+00, 1e+04]\n",
      "  RHS range        [1e+00, 1e+01]\n",
      "Found heuristic solution: objective 7670.7509411\n",
      "Presolve time: 0.00s\n",
      "Presolved: 78 rows, 56 columns, 385 nonzeros\n",
      "Variable types: 1 continuous, 55 integer (55 binary)\n",
      "\n",
      "Root relaxation: objective 9.936433e+02, 95 iterations, 0.00 seconds (0.00 work units)\n",
      "\n",
      "    Nodes    |    Current Node    |     Objective Bounds      |     Work\n",
      " Expl Unexpl |  Obj  Depth IntInf | Incumbent    BestBd   Gap | It/Node Time\n",
      "\n",
      "     0     0  993.64327    0   39 7670.75094  993.64327  87.0%     -    0s\n",
      "H    0     0                    7297.4495545  993.64327  86.4%     -    0s\n",
      "     0     0 1569.98307    0   39 7297.44955 1569.98307  78.5%     -    0s\n",
      "H    0     0                    7258.4949542 1569.98307  78.4%     -    0s\n",
      "     0     0 1569.98307    0   40 7258.49495 1569.98307  78.4%     -    0s\n",
      "     0     0 2103.37409    0   35 7258.49495 2103.37409  71.0%     -    0s\n",
      "     0     0 2103.37409    0   35 7258.49495 2103.37409  71.0%     -    0s\n",
      "     0     0 2529.39161    0   33 7258.49495 2529.39161  65.2%     -    0s\n",
      "     0     0 2671.55075    0   27 7258.49495 2671.55075  63.2%     -    0s\n",
      "H    0     0                    6663.3073620 2671.55075  59.9%     -    0s\n",
      "     0     0 2678.32648    0   26 6663.30736 2678.32648  59.8%     -    0s\n",
      "     0     0 2770.76642    0   30 6663.30736 2770.76642  58.4%     -    0s\n",
      "     0     0 2866.76201    0   25 6663.30736 2866.76201  57.0%     -    0s\n",
      "     0     0 2884.32041    0   28 6663.30736 2884.32041  56.7%     -    0s\n",
      "     0     0 2884.32041    0   26 6663.30736 2884.32041  56.7%     -    0s\n",
      "     0     0 2890.16552    0   21 6663.30736 2890.16552  56.6%     -    0s\n",
      "     0     0 3054.48709    0   14 6663.30736 3054.48709  54.2%     -    0s\n",
      "H    0     0                    6194.9673930 3054.48709  50.7%     -    0s\n",
      "H    0     0                    5445.5270636 3054.48709  43.9%     -    0s\n",
      "     0     0 3228.72450    0   16 5445.52706 3228.72450  40.7%     -    0s\n",
      "     0     0 3335.01018    0   20 5445.52706 3335.01018  38.8%     -    0s\n",
      "     0     0 3370.25190    0   21 5445.52706 3370.25190  38.1%     -    0s\n",
      "     0     0 3370.25190    0   23 5445.52706 3370.25190  38.1%     -    0s\n",
      "     0     0 3449.61750    0   17 5445.52706 3449.61750  36.7%     -    0s\n",
      "     0     0 3449.61750    0   11 5445.52706 3449.61750  36.7%     -    0s\n",
      "H    0     0                    5338.4534277 3449.61750  35.4%     -    0s\n",
      "     0     0 3449.61750    0   11 5338.45343 3449.61750  35.4%     -    0s\n",
      "     0     0 3456.35759    0   17 5338.45343 3456.35759  35.3%     -    0s\n",
      "     0     0 3578.12757    0   11 5338.45343 3578.12757  33.0%     -    0s\n",
      "     0     0 3578.12757    0   11 5338.45343 3578.12757  33.0%     -    0s\n",
      "     0     0 3578.12757    0   13 5338.45343 3578.12757  33.0%     -    0s\n",
      "     0     0 3578.12757    0   13 5338.45343 3578.12757  33.0%     -    0s\n",
      "     0     0 3578.12757    0   12 5338.45343 3578.12757  33.0%     -    0s\n",
      "     0     0 3578.12757    0   12 5338.45343 3578.12757  33.0%     -    0s\n",
      "H    0     0                    5042.2157828 3578.12757  29.0%     -    0s\n",
      "H    0     0                    4673.2576432 3578.12757  23.4%     -    0s\n",
      "\n",
      "Explored 1 nodes (609 simplex iterations) in 0.10 seconds (0.02 work units)\n",
      "Thread count was 12 (of 12 available processors)\n",
      "\n",
      "Solution count 9: 4673.26 5042.22 5338.45 ... 7670.75\n",
      "\n",
      "Optimal solution found (tolerance 1.00e-04)\n",
      "Best objective 4.673257643229e+03, best bound 4.673257643229e+03, gap 0.0000%\n",
      "\n",
      "User-callback calls 289, time in user-callback 0.01 sec\n",
      "[DBST SOLVER]: Found the optimal bottleneck! Bottleneck length is 4673.257643229185\n"
     ]
    },
    {
     "ename": "NetworkXError",
     "evalue": "Input is not a valid edge list",
     "output_type": "error",
     "traceback": [
      "\u001b[0;31m---------------------------------------------------------------------------\u001b[0m",
      "\u001b[0;31mNetworkXError\u001b[0m                             Traceback (most recent call last)",
      "File \u001b[0;32m~/.local/share/anaconda3/envs/alglab/lib/python3.10/site-packages/networkx/convert.py:172\u001b[0m, in \u001b[0;36mto_networkx_graph\u001b[0;34m(data, create_using, multigraph_input)\u001b[0m\n\u001b[1;32m    171\u001b[0m \u001b[38;5;28;01mtry\u001b[39;00m:\n\u001b[0;32m--> 172\u001b[0m     \u001b[38;5;28;01mreturn\u001b[39;00m \u001b[43mfrom_edgelist\u001b[49m\u001b[43m(\u001b[49m\u001b[43mdata\u001b[49m\u001b[43m,\u001b[49m\u001b[43m \u001b[49m\u001b[43mcreate_using\u001b[49m\u001b[38;5;241;43m=\u001b[39;49m\u001b[43mcreate_using\u001b[49m\u001b[43m)\u001b[49m\n\u001b[1;32m    173\u001b[0m \u001b[38;5;28;01mexcept\u001b[39;00m \u001b[38;5;167;01mException\u001b[39;00m \u001b[38;5;28;01mas\u001b[39;00m err:\n",
      "File \u001b[0;32m~/.local/share/anaconda3/envs/alglab/lib/python3.10/site-packages/networkx/convert.py:490\u001b[0m, in \u001b[0;36mfrom_edgelist\u001b[0;34m(edgelist, create_using)\u001b[0m\n\u001b[1;32m    489\u001b[0m G \u001b[38;5;241m=\u001b[39m nx\u001b[38;5;241m.\u001b[39mempty_graph(\u001b[38;5;241m0\u001b[39m, create_using)\n\u001b[0;32m--> 490\u001b[0m \u001b[43mG\u001b[49m\u001b[38;5;241;43m.\u001b[39;49m\u001b[43madd_edges_from\u001b[49m\u001b[43m(\u001b[49m\u001b[43medgelist\u001b[49m\u001b[43m)\u001b[49m\n\u001b[1;32m    491\u001b[0m \u001b[38;5;28;01mreturn\u001b[39;00m G\n",
      "File \u001b[0;32m~/.local/share/anaconda3/envs/alglab/lib/python3.10/site-packages/networkx/classes/graph.py:940\u001b[0m, in \u001b[0;36mGraph.add_edges_from\u001b[0;34m(self, ebunch_to_add, **attr)\u001b[0m\n\u001b[1;32m    939\u001b[0m \u001b[38;5;28;01melse\u001b[39;00m:\n\u001b[0;32m--> 940\u001b[0m     \u001b[38;5;28;01mraise\u001b[39;00m NetworkXError(\u001b[38;5;124mf\u001b[39m\u001b[38;5;124m\"\u001b[39m\u001b[38;5;124mEdge tuple \u001b[39m\u001b[38;5;132;01m{\u001b[39;00me\u001b[38;5;132;01m}\u001b[39;00m\u001b[38;5;124m must be a 2-tuple or 3-tuple.\u001b[39m\u001b[38;5;124m\"\u001b[39m)\n\u001b[1;32m    941\u001b[0m \u001b[38;5;28;01mif\u001b[39;00m u \u001b[38;5;129;01mnot\u001b[39;00m \u001b[38;5;129;01min\u001b[39;00m \u001b[38;5;28mself\u001b[39m\u001b[38;5;241m.\u001b[39m_node:\n",
      "\u001b[0;31mNetworkXError\u001b[0m: Edge tuple [((9714, 1021), (9607, 1036)), ((1792, 6301), (2036, 5445)), ((9148, 8319), (9297, 6284)), ((9714, 1021), (8866, 2988)), ((6418, 2758), (4004, 1652)), ((9148, 8319), (8699, 5381)), ((5851, 3985), (8699, 5381)), ((9297, 6284), (8866, 2988)), ((6418, 2758), (9607, 1036)), ((4004, 1652), (2036, 5445)), ((1792, 6301), (5851, 3985))] must be a 2-tuple or 3-tuple.",
      "\nThe above exception was the direct cause of the following exception:\n",
      "\u001b[0;31mNetworkXError\u001b[0m                             Traceback (most recent call last)",
      "Cell \u001b[0;32mIn[30], line 2\u001b[0m\n\u001b[1;32m      1\u001b[0m sol \u001b[38;5;241m=\u001b[39m BTSPSolverIP(points, util\u001b[38;5;241m.\u001b[39mall_edges_sorted(points))\u001b[38;5;241m.\u001b[39msolve()\n\u001b[0;32m----> 2\u001b[0m \u001b[43mdraw_edges\u001b[49m\u001b[43m(\u001b[49m\u001b[43msol\u001b[49m\u001b[43m)\u001b[49m\n",
      "File \u001b[0;32m~/Nextcloud/cloud.hackingchad.dynv6.net/Uni/Veranstaltungen/Module/Wahlpflichtbereich Informatik/Algorithmikpraktikum/algorithmik-praktikum-sose2023-gruppe-5/04_mip/MIP/util.py:37\u001b[0m, in \u001b[0;36mdraw_edges\u001b[0;34m(edges)\u001b[0m\n\u001b[1;32m     32\u001b[0m \u001b[38;5;28;01mdef\u001b[39;00m \u001b[38;5;21mdraw_edges\u001b[39m(edges):\n\u001b[1;32m     33\u001b[0m     \u001b[38;5;124;03m\"\"\"\u001b[39;00m\n\u001b[1;32m     34\u001b[0m \u001b[38;5;124;03m    Draws the list of edges as a graph using networkx. The bottleneck\u001b[39;00m\n\u001b[1;32m     35\u001b[0m \u001b[38;5;124;03m    edge is highlighted using a thicker stroke and red color.\u001b[39;00m\n\u001b[1;32m     36\u001b[0m \u001b[38;5;124;03m    \"\"\"\u001b[39;00m\n\u001b[0;32m---> 37\u001b[0m     draw_graph \u001b[38;5;241m=\u001b[39m \u001b[43mnx\u001b[49m\u001b[38;5;241;43m.\u001b[39;49m\u001b[43mGraph\u001b[49m\u001b[43m(\u001b[49m\u001b[43medges\u001b[49m\u001b[43m)\u001b[49m\n\u001b[1;32m     38\u001b[0m     g_edges \u001b[38;5;241m=\u001b[39m draw_graph\u001b[38;5;241m.\u001b[39medges()\n\u001b[1;32m     39\u001b[0m     max_length \u001b[38;5;241m=\u001b[39m \u001b[38;5;28mmax\u001b[39m((squared_distance(\u001b[38;5;241m*\u001b[39me) \u001b[38;5;28;01mfor\u001b[39;00m e \u001b[38;5;129;01min\u001b[39;00m g_edges))\n",
      "File \u001b[0;32m~/.local/share/anaconda3/envs/alglab/lib/python3.10/site-packages/networkx/classes/graph.py:338\u001b[0m, in \u001b[0;36mGraph.__init__\u001b[0;34m(self, incoming_graph_data, **attr)\u001b[0m\n\u001b[1;32m    336\u001b[0m \u001b[38;5;66;03m# attempt to load graph with data\u001b[39;00m\n\u001b[1;32m    337\u001b[0m \u001b[38;5;28;01mif\u001b[39;00m incoming_graph_data \u001b[38;5;129;01mis\u001b[39;00m \u001b[38;5;129;01mnot\u001b[39;00m \u001b[38;5;28;01mNone\u001b[39;00m:\n\u001b[0;32m--> 338\u001b[0m     \u001b[43mconvert\u001b[49m\u001b[38;5;241;43m.\u001b[39;49m\u001b[43mto_networkx_graph\u001b[49m\u001b[43m(\u001b[49m\u001b[43mincoming_graph_data\u001b[49m\u001b[43m,\u001b[49m\u001b[43m \u001b[49m\u001b[43mcreate_using\u001b[49m\u001b[38;5;241;43m=\u001b[39;49m\u001b[38;5;28;43mself\u001b[39;49m\u001b[43m)\u001b[49m\n\u001b[1;32m    339\u001b[0m \u001b[38;5;66;03m# load graph attributes (must be after convert)\u001b[39;00m\n\u001b[1;32m    340\u001b[0m \u001b[38;5;28mself\u001b[39m\u001b[38;5;241m.\u001b[39mgraph\u001b[38;5;241m.\u001b[39mupdate(attr)\n",
      "File \u001b[0;32m~/.local/share/anaconda3/envs/alglab/lib/python3.10/site-packages/networkx/convert.py:174\u001b[0m, in \u001b[0;36mto_networkx_graph\u001b[0;34m(data, create_using, multigraph_input)\u001b[0m\n\u001b[1;32m    172\u001b[0m         \u001b[38;5;28;01mreturn\u001b[39;00m from_edgelist(data, create_using\u001b[38;5;241m=\u001b[39mcreate_using)\n\u001b[1;32m    173\u001b[0m     \u001b[38;5;28;01mexcept\u001b[39;00m \u001b[38;5;167;01mException\u001b[39;00m \u001b[38;5;28;01mas\u001b[39;00m err:\n\u001b[0;32m--> 174\u001b[0m         \u001b[38;5;28;01mraise\u001b[39;00m nx\u001b[38;5;241m.\u001b[39mNetworkXError(\u001b[38;5;124m\"\u001b[39m\u001b[38;5;124mInput is not a valid edge list\u001b[39m\u001b[38;5;124m\"\u001b[39m) \u001b[38;5;28;01mfrom\u001b[39;00m \u001b[38;5;21;01merr\u001b[39;00m\n\u001b[1;32m    176\u001b[0m \u001b[38;5;28;01mraise\u001b[39;00m nx\u001b[38;5;241m.\u001b[39mNetworkXError(\u001b[38;5;124m\"\u001b[39m\u001b[38;5;124mInput is not a known data type for conversion.\u001b[39m\u001b[38;5;124m\"\u001b[39m)\n",
      "\u001b[0;31mNetworkXError\u001b[0m: Input is not a valid edge list"
     ]
    }
   ],
   "source": [
    "sol = BTSPSolverIP(points, util.all_edges_sorted(points)).solve()\n",
    "draw_edges(sol)"
   ]
  },
  {
   "cell_type": "code",
   "execution_count": null,
   "id": "e65e5e79-a5c5-4141-9039-746fadb3a33a",
   "metadata": {},
   "outputs": [],
   "source": []
  }
 ],
 "metadata": {
  "kernelspec": {
   "display_name": "Python 3 (ipykernel)",
   "language": "python",
   "name": "python3"
  },
  "language_info": {
   "codemirror_mode": {
    "name": "ipython",
    "version": 3
   },
   "file_extension": ".py",
   "mimetype": "text/x-python",
   "name": "python",
   "nbconvert_exporter": "python",
   "pygments_lexer": "ipython3",
   "version": "3.10.11"
  }
 },
 "nbformat": 4,
 "nbformat_minor": 5
}
