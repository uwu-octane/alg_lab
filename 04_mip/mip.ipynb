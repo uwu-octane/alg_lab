{
 "cells": [
  {
   "cell_type": "code",
   "execution_count": 12,
   "id": "d58686ae-b63a-4089-9ae6-d2348fd6c6de",
   "metadata": {},
   "outputs": [
    {
     "name": "stdout",
     "output_type": "stream",
     "text": [
      "The autoreload extension is already loaded. To reload it, use:\n",
      "  %reload_ext autoreload\n"
     ]
    }
   ],
   "source": [
    "import networkx as nx\n",
    "import random\n",
    "import matplotlib\n",
    "import matplotlib.pyplot as plt\n",
    "\n",
    "from MIP import *\n",
    "\n",
    "%load_ext autoreload\n",
    "%autoreload 2"
   ]
  },
  {
   "cell_type": "code",
   "execution_count": 13,
   "id": "f2ef9395-fa2c-4d53-8ad9-3ebc919ea8bb",
   "metadata": {},
   "outputs": [],
   "source": [
    "points = util.import_instance(\"25.json\")"
   ]
  },
  {
   "cell_type": "code",
   "execution_count": 16,
   "id": "e5732251-bd60-41b5-bd05-99c5eaf92e7a",
   "metadata": {},
   "outputs": [
    {
     "name": "stdout",
     "output_type": "stream",
     "text": [
      "Greedy bottleneck: 3403.51421328015\n",
      "Set parameter LazyConstraints to value 1\n"
     ]
    },
    {
     "ename": "AttributeError",
     "evalue": "Attribute 'Start' takes double value",
     "output_type": "error",
     "traceback": [
      "\u001b[0;31m---------------------------------------------------------------------------\u001b[0m",
      "\u001b[0;31mAttributeError\u001b[0m                            Traceback (most recent call last)",
      "Cell \u001b[0;32mIn[16], line 2\u001b[0m\n\u001b[1;32m      1\u001b[0m start \u001b[38;5;241m=\u001b[39m Greedy_Btsp(points)\u001b[38;5;241m.\u001b[39msolve()\n\u001b[0;32m----> 2\u001b[0m sol, timetaken \u001b[38;5;241m=\u001b[39m \u001b[43mBTSPSolverIP\u001b[49m\u001b[43m(\u001b[49m\u001b[43mpoints\u001b[49m\u001b[43m,\u001b[49m\u001b[43m \u001b[49m\u001b[43mutil\u001b[49m\u001b[38;5;241;43m.\u001b[39;49m\u001b[43mall_edges_sorted\u001b[49m\u001b[43m(\u001b[49m\u001b[43mpoints\u001b[49m\u001b[43m)\u001b[49m\u001b[43m)\u001b[49m\u001b[38;5;241;43m.\u001b[39;49m\u001b[43msolve\u001b[49m\u001b[43m(\u001b[49m\u001b[43mstart\u001b[49m\u001b[43m,\u001b[49m\u001b[43m \u001b[49m\u001b[43mbottleneck\u001b[49m\u001b[43m)\u001b[49m\n\u001b[1;32m      3\u001b[0m draw_edges(sol)\n",
      "File \u001b[0;32m~/Nextcloud/cloud.hackingchad.dynv6.net/Uni/Veranstaltungen/Module/Wahlpflichtbereich Informatik/Algorithmikpraktikum/algorithmik-praktikum-sose2023-gruppe-5/04_mip/MIP/solver.py:179\u001b[0m, in \u001b[0;36mBTSPSolverIP.solve\u001b[0;34m(self, start, bottleneck, min_tour)\u001b[0m\n\u001b[1;32m    177\u001b[0m \u001b[38;5;28;01mdef\u001b[39;00m \u001b[38;5;21msolve\u001b[39m(\u001b[38;5;28mself\u001b[39m, start\u001b[38;5;241m=\u001b[39m\u001b[38;5;28;01mNone\u001b[39;00m, bottleneck\u001b[38;5;241m=\u001b[39m\u001b[38;5;241m-\u001b[39m\u001b[38;5;241m1\u001b[39m, min_tour\u001b[38;5;241m=\u001b[39m\u001b[38;5;28;01mFalse\u001b[39;00m):\n\u001b[1;32m    178\u001b[0m     \u001b[38;5;28;01mif\u001b[39;00m start:\n\u001b[0;32m--> 179\u001b[0m         btsp_edges \u001b[38;5;241m=\u001b[39m \u001b[38;5;28;43mself\u001b[39;49m\u001b[38;5;241;43m.\u001b[39;49m\u001b[43m__solve_bottleneck_greedy\u001b[49m\u001b[43m(\u001b[49m\u001b[43mstart\u001b[49m\u001b[43m,\u001b[49m\u001b[43m \u001b[49m\u001b[43mbottleneck\u001b[49m\u001b[43m)\u001b[49m\n\u001b[1;32m    180\u001b[0m     \u001b[38;5;28;01melse\u001b[39;00m:\n\u001b[1;32m    181\u001b[0m         btsp_edges \u001b[38;5;241m=\u001b[39m \u001b[38;5;28mself\u001b[39m\u001b[38;5;241m.\u001b[39m__solve_bottleneck()\n",
      "File \u001b[0;32m~/Nextcloud/cloud.hackingchad.dynv6.net/Uni/Veranstaltungen/Module/Wahlpflichtbereich Informatik/Algorithmikpraktikum/algorithmik-praktikum-sose2023-gruppe-5/04_mip/MIP/solver.py:148\u001b[0m, in \u001b[0;36mBTSPSolverIP.__solve_bottleneck_greedy\u001b[0;34m(self, start, bottleneck)\u001b[0m\n\u001b[1;32m    146\u001b[0m \u001b[38;5;28mvars\u001b[39m \u001b[38;5;241m=\u001b[39m \u001b[38;5;28mself\u001b[39m\u001b[38;5;241m.\u001b[39mmodel_bottleneck\u001b[38;5;241m.\u001b[39mgetVars()\n\u001b[1;32m    147\u001b[0m \u001b[38;5;28;01mfor\u001b[39;00m i, v \u001b[38;5;129;01min\u001b[39;00m \u001b[38;5;28menumerate\u001b[39m(\u001b[38;5;28mvars\u001b[39m[:\u001b[38;5;28mlen\u001b[39m(\u001b[38;5;28mvars\u001b[39m) \u001b[38;5;241m-\u001b[39m \u001b[38;5;241m2\u001b[39m]):\n\u001b[0;32m--> 148\u001b[0m     v\u001b[38;5;241m.\u001b[39mStart \u001b[38;5;241m=\u001b[39m start[i]\n\u001b[1;32m    149\u001b[0m \u001b[38;5;28mvars\u001b[39m[\u001b[38;5;28mlen\u001b[39m(\u001b[38;5;28mvars\u001b[39m) \u001b[38;5;241m-\u001b[39m \u001b[38;5;241m1\u001b[39m]\u001b[38;5;241m.\u001b[39mStart \u001b[38;5;241m=\u001b[39m bottleneck\n\u001b[1;32m    151\u001b[0m \u001b[38;5;28;01mreturn\u001b[39;00m \u001b[38;5;28mself\u001b[39m\u001b[38;5;241m.\u001b[39m__solve_bottleneck()\n",
      "File \u001b[0;32msrc/gurobipy/var.pxi:131\u001b[0m, in \u001b[0;36mgurobipy.Var.__setattr__\u001b[0;34m()\u001b[0m\n",
      "File \u001b[0;32msrc/gurobipy/var.pxi:187\u001b[0m, in \u001b[0;36mgurobipy.Var.setAttr\u001b[0;34m()\u001b[0m\n",
      "File \u001b[0;32msrc/gurobipy/attrutil.pxi:251\u001b[0m, in \u001b[0;36mgurobipy.__setattr\u001b[0;34m()\u001b[0m\n",
      "\u001b[0;31mAttributeError\u001b[0m: Attribute 'Start' takes double value"
     ]
    }
   ],
   "source": [
    "start = Greedy_Btsp(points).solve()\n",
    "sol, timetaken = BTSPSolverIP(points, util.all_edges_sorted(points)).solve(start, bottleneck)\n",
    "draw_edges(sol)"
   ]
  },
  {
   "cell_type": "code",
   "execution_count": null,
   "id": "3bd0bd9d-e7ad-4108-9093-191a45b22936",
   "metadata": {},
   "outputs": [],
   "source": [
    "sol, timetaken = BTSPSolverIP(points, util.all_edges_sorted(points)).solve()\n",
    "draw_edges(sol)"
   ]
  },
  {
   "cell_type": "code",
   "execution_count": null,
   "id": "e65e5e79-a5c5-4141-9039-746fadb3a33a",
   "metadata": {},
   "outputs": [],
   "source": [
    "sol = BTSPSolverCP(list(points)).solve()\n",
    "draw_edges(sol)"
   ]
  },
  {
   "cell_type": "code",
   "execution_count": null,
   "id": "b60fe125-c0db-47b5-88e4-e1e07699868c",
   "metadata": {},
   "outputs": [],
   "source": []
  }
 ],
 "metadata": {
  "kernelspec": {
   "display_name": "Python 3 (ipykernel)",
   "language": "python",
   "name": "python3"
  },
  "language_info": {
   "codemirror_mode": {
    "name": "ipython",
    "version": 3
   },
   "file_extension": ".py",
   "mimetype": "text/x-python",
   "name": "python",
   "nbconvert_exporter": "python",
   "pygments_lexer": "ipython3",
   "version": "3.10.11"
  }
 },
 "nbformat": 4,
 "nbformat_minor": 5
}
