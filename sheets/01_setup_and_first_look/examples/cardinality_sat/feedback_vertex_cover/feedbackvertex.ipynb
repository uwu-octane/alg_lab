{
 "cells": [
  {
   "cell_type": "code",
   "execution_count": 5,
   "metadata": {},
   "outputs": [],
   "source": [
    "from util import parse_graph_from_edgelist_file, visualize_fvs\n",
    "from solver import FeedbackVertexSetSolverSAT\n",
    "from greedy import greedy_fvs\n",
    "import networkx as nx\n",
    "import time\n",
    "import threading"
   ]
  },
  {
   "cell_type": "markdown",
   "metadata": {},
   "source": [
    "### Load the test graph, draw it using a \"nice\" layout."
   ]
  },
  {
   "cell_type": "code",
   "execution_count": 6,
   "metadata": {},
   "outputs": [
    {
     "data": {
      "text/plain": "'\\nG = parse_graph_from_edgelist_file(\"instances/graph1.edges\")\\n# G = nx.generators.fast_gnp_random_graph(25, 0.3)\\nnx.draw_networkx(G, pos=nx.layout.kamada_kawai_layout(G))\\n'"
     },
     "execution_count": 6,
     "metadata": {},
     "output_type": "execute_result"
    }
   ],
   "source": [
    "\"\"\"\n",
    "G = parse_graph_from_edgelist_file(\"instances/graph1.edges\")\n",
    "# G = nx.generators.fast_gnp_random_graph(25, 0.3)\n",
    "nx.draw_networkx(G, pos=nx.layout.kamada_kawai_layout(G))\n",
    "\"\"\""
   ]
  },
  {
   "cell_type": "markdown",
   "metadata": {},
   "source": [
    "## Find a greedy solution"
   ]
  },
  {
   "cell_type": "code",
   "execution_count": 7,
   "metadata": {},
   "outputs": [
    {
     "data": {
      "text/plain": "'\\ngreedy_solution = greedy_fvs(G)\\nassert nx.is_forest(G.subgraph(set(G.nodes()) - greedy_solution))\\n\\nprint(f\"The greedy solution {greedy_solution} has size {len(greedy_solution)}!\")\\nvisualize_fvs(G, greedy_solution)\\n'"
     },
     "execution_count": 7,
     "metadata": {},
     "output_type": "execute_result"
    }
   ],
   "source": [
    "\"\"\"\n",
    "greedy_solution = greedy_fvs(G)\n",
    "assert nx.is_forest(G.subgraph(set(G.nodes()) - greedy_solution))\n",
    "\n",
    "print(f\"The greedy solution {greedy_solution} has size {len(greedy_solution)}!\")\n",
    "visualize_fvs(G, greedy_solution)\n",
    "\"\"\""
   ]
  },
  {
   "cell_type": "markdown",
   "source": [
    "## Use the exact solver using Cardinality SAT to find the optimal solution"
   ],
   "metadata": {
    "collapsed": false
   }
  },
  {
   "cell_type": "code",
   "execution_count": 8,
   "outputs": [
    {
     "name": "stdout",
     "output_type": "stream",
     "text": [
      "Number of cycles in cycle basis: 101\n",
      "A greedy solution of size 16 was found!\n",
      "k = 8: UNSAT\n",
      "k = 12: UNSAT\n",
      "k = 14: UNSAT\n",
      "k = 15: SAT\n",
      "A solution of size 15 was found by the solver!\n",
      "The solution of size 15 was proven to be optimal!\n",
      "Number of cycles in cycle basis: 115\n",
      "A greedy solution of size 16 was found!\n",
      "k = 8: UNSAT\n",
      "k = 12: UNSAT\n",
      "k = 14: SAT\n",
      "A solution of size 14 was found by the solver!\n",
      "k = 13: UNSAT\n",
      "The solution of size 14 was proven to be optimal!\n",
      "Number of cycles in cycle basis: 121\n",
      "A greedy solution of size 19 was found!\n",
      "k = 9: UNSAT\n",
      "k = 14: UNSAT\n",
      "k = 17: SAT\n",
      "A solution of size 17 was found by the solver!\n",
      "k = 16: UNSAT\n",
      "The solution of size 17 was proven to be optimal!\n",
      "Number of cycles in cycle basis: 146\n",
      "A greedy solution of size 21 was found!\n",
      "k = 10: UNSAT\n",
      "k = 16: UNSAT\n",
      "k = 19: SAT\n",
      "A solution of size 19 was found by the solver!\n",
      "k = 18: SAT\n",
      "A solution of size 18 was found by the solver!\n",
      "k = 17: UNSAT\n",
      "The solution of size 18 was proven to be optimal!\n",
      "Number of cycles in cycle basis: 157\n",
      "A greedy solution of size 20 was found!\n",
      "k = 10: UNSAT\n",
      "k = 15: UNSAT\n",
      "k = 18: UNSAT\n",
      "k = 19: SAT\n",
      "A solution of size 19 was found by the solver!\n",
      "The solution of size 19 was proven to be optimal!\n",
      "Number of cycles in cycle basis: 133\n",
      "A greedy solution of size 19 was found!\n",
      "k = 9: UNSAT\n",
      "k = 14: UNSAT\n",
      "k = 17: UNSAT\n",
      "k = 18: UNSAT\n",
      "The solution of size 19 was proven to be optimal!\n",
      "Number of cycles in cycle basis: 151\n",
      "A greedy solution of size 20 was found!\n",
      "k = 10: UNSAT\n",
      "k = 15: UNSAT\n",
      "k = 18: UNSAT\n",
      "k = 19: SAT\n",
      "A solution of size 19 was found by the solver!\n",
      "The solution of size 19 was proven to be optimal!\n",
      "Number of cycles in cycle basis: 178\n",
      "A greedy solution of size 23 was found!\n",
      "k = 11: UNSAT\n",
      "k = 17: UNSAT\n",
      "k = 20: UNSAT\n",
      "k = 22: SAT\n",
      "A solution of size 22 was found by the solver!\n",
      "k = 21: UNSAT\n",
      "The solution of size 22 was proven to be optimal!\n",
      "Number of cycles in cycle basis: 176\n",
      "A greedy solution of size 24 was found!\n",
      "k = 12: UNSAT\n",
      "k = 18: UNSAT\n",
      "k = 21: UNSAT\n",
      "k = 23: SAT\n",
      "A solution of size 23 was found by the solver!\n",
      "k = 22: SAT\n",
      "A solution of size 22 was found by the solver!\n",
      "The solution of size 22 was proven to be optimal!\n",
      "Number of cycles in cycle basis: 172\n",
      "A greedy solution of size 22 was found!\n",
      "k = 11: UNSAT\n",
      "k = 17: UNSAT\n",
      "k = 20: UNSAT\n",
      "k = 21: SAT\n",
      "A solution of size 21 was found by the solver!\n",
      "The solution of size 21 was proven to be optimal!\n",
      "Number of cycles in cycle basis: 212\n",
      "A greedy solution of size 27 was found!\n",
      "k = 13: UNSAT\n",
      "k = 20: UNSAT\n",
      "k = 24: SAT\n",
      "A solution of size 24 was found by the solver!\n",
      "k = 22: UNSAT\n",
      "k = 23: UNSAT\n",
      "The solution of size 24 was proven to be optimal!\n",
      "Number of cycles in cycle basis: 207\n",
      "A greedy solution of size 25 was found!\n",
      "k = 12: UNSAT\n",
      "k = 19: UNSAT\n",
      "k = 22: UNSAT\n",
      "k = 24: SAT\n",
      "A solution of size 24 was found by the solver!\n",
      "k = 23: UNSAT\n",
      "The solution of size 24 was proven to be optimal!\n",
      "Number of cycles in cycle basis: 218\n",
      "A greedy solution of size 28 was found!\n",
      "k = 14: UNSAT\n",
      "k = 21: UNSAT\n",
      "k = 25: SAT\n",
      "A solution of size 25 was found by the solver!\n",
      "k = 23: UNSAT\n",
      "k = 24: UNSAT\n",
      "The solution of size 25 was proven to be optimal!\n",
      "Number of cycles in cycle basis: 239\n",
      "A greedy solution of size 27 was found!\n",
      "k = 13: UNSAT\n",
      "k = 20: UNSAT\n",
      "k = 24: UNSAT\n",
      "k = 26: UNSAT\n",
      "The solution of size 27 was proven to be optimal!\n",
      "Largest instance that can be solved within 300 seconds: 42 nodes\n"
     ]
    }
   ],
   "source": [
    "\"\"\"\n",
    "fbv_solver = FeedbackVertexSetSolverSAT(G)\n",
    "optimal_solution = fbv_solver.find_optimum()\n",
    "print(optimal_solution)\n",
    "print(f\"The optimal solution is {round(100.0 -  100.0 * len(optimal_solution) / len(greedy_solution), ndigits=2)}% smaller than the heuristic solution!\")\n",
    "visualize_fvs(G, feedback_vertex_set=optimal_solution)\n",
    "\n",
    "assert nx.is_forest(G.subgraph(set(G.nodes()) - optimal_solution))\n",
    "\"\"\"\n",
    "\n",
    "# Define a function to run the find_optimum method in a separate thread\n",
    "def run_solver(fbv_solver):\n",
    "    global optimal_solution\n",
    "    optimal_solution = fbv_solver.find_optimum()\n",
    "\n",
    "# Start with a small number of nodes\n",
    "num_nodes = 30\n",
    "\n",
    "# Increment the number of nodes by 10 for each iteration\n",
    "increment = 1\n",
    "\n",
    "# Set the time limit to 5 minutes\n",
    "time_limit = 300  # seconds\n",
    "\n",
    "# Keep track of the largest instance that can be solved within the time limit\n",
    "largest_size = num_nodes\n",
    "start_time = time.time()\n",
    "while time.time() - start_time < 300:\n",
    "    # Generate a random graph with the specified number of nodes and edge probability\n",
    "    G = nx.generators.fast_gnp_random_graph(num_nodes, 0.3)\n",
    "\n",
    "    # Measure the time taken to solve the instance\n",
    "    fbv_solver = FeedbackVertexSetSolverSAT(G)\n",
    "\n",
    "    # Start a separate thread to run the find_optimum method\n",
    "    t = threading.Thread(target=run_solver, args=(fbv_solver,))\n",
    "    t.start()\n",
    "\n",
    "    # Wait for the specified time limit\n",
    "    t.join(timeout=time_limit)\n",
    "\n",
    "    # If the separate thread is still running, stop it and return the largest instance that could be solved\n",
    "    if t.is_alive():\n",
    "        t.stop()\n",
    "        print(f\"Largest instance that can be solved within {time_limit} seconds: {largest_size} nodes\")\n",
    "        break\n",
    "    elapsed_time = time.time() - start_time\n",
    "\n",
    "    # If the time taken is less than the time limit, increase the number of nodes and try again\n",
    "    if elapsed_time < time_limit:\n",
    "        largest_size = num_nodes\n",
    "        num_nodes += increment\n",
    "    else:\n",
    "        # If the time limit is reached, return the largest instance that can be solved\n",
    "        print(f\"Largest instance that can be solved within {time_limit} seconds: {largest_size} nodes\")\n",
    "        break"
   ],
   "metadata": {
    "collapsed": false
   }
  }
 ],
 "metadata": {
  "kernelspec": {
   "display_name": "Python 3 (ipykernel)",
   "language": "python",
   "name": "python3"
  },
  "language_info": {
   "codemirror_mode": {
    "name": "ipython",
    "version": 3
   },
   "file_extension": ".py",
   "mimetype": "text/x-python",
   "name": "python",
   "nbconvert_exporter": "python",
   "pygments_lexer": "ipython3",
   "version": "3.10.11"
  }
 },
 "nbformat": 4,
 "nbformat_minor": 4
}
