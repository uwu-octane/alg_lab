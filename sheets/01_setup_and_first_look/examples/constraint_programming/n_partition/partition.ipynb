{
 "cells": [
  {
   "cell_type": "code",
   "execution_count": 1,
   "metadata": {},
   "outputs": [],
   "source": [
    "from solver import PartitionSolverCpSat\n",
    "import random"
   ]
  },
  {
   "attachments": {},
   "cell_type": "markdown",
   "metadata": {},
   "source": [
    "# k-WAY-PARTITIONING\n",
    "For a given list/multiset of integers, the k-WAY-PARTITIONING problem asks whether all integers can be assigned to one of k >= 2 partitions, such that the sum of the integers in each partition are equivalent. This problem is known to be NP-hard for arbitrary sets of integers and for all k."
   ]
  },
  {
   "cell_type": "code",
   "execution_count": 2,
   "metadata": {},
   "outputs": [],
   "source": [
    "random.seed(1234568)\n",
    "ints = [random.randint(1, 20) for _ in range(69)]"
   ]
  },
  {
   "attachments": {},
   "cell_type": "markdown",
   "metadata": {},
   "source": [
    "### Initialize the solver."
   ]
  },
  {
   "cell_type": "code",
   "execution_count": 3,
   "metadata": {},
   "outputs": [],
   "source": [
    "solver = PartitionSolverCpSat(ints)\n",
    "\n",
    "def solve_n_partition(n: int):\n",
    "    solution = solver.solve(n)\n",
    "\n",
    "    if solution is not None:\n",
    "        print(\"List of partitions:\")\n",
    "        for i, partition in enumerate(solution, start=1):\n",
    "            print(f\"[{i}] {sum(partition)} = sum({partition})\")\n",
    "    else:\n",
    "        print(f\"No feasible {n}-partition exists!\")"
   ]
  },
  {
   "attachments": {},
   "cell_type": "markdown",
   "metadata": {},
   "source": [
    "### Solve 3-partition."
   ]
  },
  {
   "cell_type": "code",
   "execution_count": 4,
   "metadata": {},
   "outputs": [
    {
     "name": "stdout",
     "output_type": "stream",
     "text": [
      "CpSolverResponse summary:\n",
      "status: OPTIMAL\n",
      "objective: 0\n",
      "best_bound: 0\n",
      "integers: 204\n",
      "booleans: 204\n",
      "conflicts: 0\n",
      "branches: 408\n",
      "propagations: 408\n",
      "integer_propagations: 816\n",
      "restarts: 408\n",
      "lp_iterations: 113\n",
      "walltime: 0.028173\n",
      "usertime: 0.028173\n",
      "deterministic_time: 0.0109324\n",
      "gap_integral: 0\n",
      "solution_fingerprint: 0x77d549d78196c7c3\n",
      "\n",
      "List of partitions:\n",
      "[1] 246 = sum([1, 3, 3, 3, 4, 4, 5, 5, 5, 5, 5, 6, 9, 10, 11, 11, 12, 13, 13, 14, 16, 16, 17, 17, 18, 20])\n",
      "[2] 246 = sum([1, 1, 2, 4, 5, 8, 11, 11, 13, 16, 16, 16, 16, 17, 17, 17, 18, 18, 19, 20])\n",
      "[3] 246 = sum([1, 1, 2, 4, 4, 6, 8, 8, 10, 10, 11, 11, 12, 13, 14, 15, 15, 15, 15, 16, 16, 19, 20])\n"
     ]
    }
   ],
   "source": [
    "solve_n_partition(n=3)"
   ]
  },
  {
   "attachments": {},
   "cell_type": "markdown",
   "metadata": {},
   "source": [
    "### Solve 5-partition."
   ]
  },
  {
   "cell_type": "code",
   "execution_count": 5,
   "metadata": {},
   "outputs": [
    {
     "name": "stdout",
     "output_type": "stream",
     "text": [
      "CpSolverResponse summary:\n",
      "status: INFEASIBLE\n",
      "objective: NA\n",
      "best_bound: NA\n",
      "integers: 340\n",
      "booleans: 340\n",
      "conflicts: 254976\n",
      "branches: 1021060\n",
      "propagations: 2042063\n",
      "integer_propagations: 3013733\n",
      "restarts: 2172\n",
      "lp_iterations: 359805\n",
      "walltime: 27.656\n",
      "usertime: 27.656\n",
      "deterministic_time: 243.993\n",
      "gap_integral: 0\n",
      "\n",
      "No feasible 5-partition exists!\n"
     ]
    }
   ],
   "source": [
    "solve_n_partition(n=5)"
   ]
  },
  {
   "attachments": {},
   "cell_type": "markdown",
   "metadata": {},
   "source": [
    "### Solve 9-partition."
   ]
  },
  {
   "cell_type": "code",
   "execution_count": 6,
   "metadata": {},
   "outputs": [
    {
     "name": "stdout",
     "output_type": "stream",
     "text": [
      "CpSolverResponse summary:\n",
      "status: OPTIMAL\n",
      "objective: 0\n",
      "best_bound: 0\n",
      "integers: 612\n",
      "booleans: 612\n",
      "conflicts: 0\n",
      "branches: 1261\n",
      "propagations: 4928\n",
      "integer_propagations: 6189\n",
      "restarts: 1224\n",
      "lp_iterations: 146\n",
      "walltime: 0.087563\n",
      "usertime: 0.087563\n",
      "deterministic_time: 0.20695\n",
      "gap_integral: 0\n",
      "solution_fingerprint: 0x6c0ea160a7db2556\n",
      "\n",
      "List of partitions:\n",
      "[1] 82 = sum([6, 8, 10, 13, 13, 16, 16])\n",
      "[2] 82 = sum([15, 16, 16, 16, 19])\n",
      "[3] 82 = sum([4, 12, 13, 16, 18, 19])\n",
      "[4] 82 = sum([1, 1, 4, 9, 10, 10, 11, 16, 20])\n",
      "[5] 82 = sum([5, 5, 5, 5, 8, 17, 17, 20])\n",
      "[6] 82 = sum([2, 3, 4, 5, 11, 11, 14, 15, 17])\n",
      "[7] 82 = sum([3, 5, 6, 11, 11, 11, 17, 18])\n",
      "[8] 82 = sum([1, 1, 2, 3, 4, 8, 15, 15, 16, 17])\n",
      "[9] 82 = sum([1, 4, 12, 13, 14, 18, 20])\n"
     ]
    }
   ],
   "source": [
    "solve_n_partition(n=9)"
   ]
  }
 ],
 "metadata": {
  "kernelspec": {
   "display_name": "Python 3",
   "language": "python",
   "name": "python3"
  },
  "language_info": {
   "codemirror_mode": {
    "name": "ipython",
    "version": 3
   },
   "file_extension": ".py",
   "mimetype": "text/x-python",
   "name": "python",
   "nbconvert_exporter": "python",
   "pygments_lexer": "ipython3",
   "version": "3.10.6"
  },
  "orig_nbformat": 4
 },
 "nbformat": 4,
 "nbformat_minor": 2
}
